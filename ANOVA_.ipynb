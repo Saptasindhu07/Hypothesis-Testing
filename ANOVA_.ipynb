{
 "cells": [
  {
   "cell_type": "code",
   "execution_count": 2,
   "id": "3b113e97-0320-4e32-adc1-2d41846af1dd",
   "metadata": {},
   "outputs": [
    {
     "name": "stdout",
     "output_type": "stream",
     "text": [
      "Collecting seaborn\n",
      "  Downloading seaborn-0.13.2-py3-none-any.whl.metadata (5.4 kB)\n",
      "Requirement already satisfied: numpy!=1.24.0,>=1.20 in c:\\users\\asus\\appdata\\roaming\\jupyterlab-desktop\\jlab_server\\lib\\site-packages (from seaborn) (1.26.4)\n",
      "Requirement already satisfied: pandas>=1.2 in c:\\users\\asus\\appdata\\roaming\\jupyterlab-desktop\\jlab_server\\lib\\site-packages (from seaborn) (2.2.2)\n",
      "Requirement already satisfied: matplotlib!=3.6.1,>=3.4 in c:\\users\\asus\\appdata\\roaming\\jupyterlab-desktop\\jlab_server\\lib\\site-packages (from seaborn) (3.8.4)\n",
      "Requirement already satisfied: contourpy>=1.0.1 in c:\\users\\asus\\appdata\\roaming\\jupyterlab-desktop\\jlab_server\\lib\\site-packages (from matplotlib!=3.6.1,>=3.4->seaborn) (1.2.1)\n",
      "Requirement already satisfied: cycler>=0.10 in c:\\users\\asus\\appdata\\roaming\\jupyterlab-desktop\\jlab_server\\lib\\site-packages (from matplotlib!=3.6.1,>=3.4->seaborn) (0.12.1)\n",
      "Requirement already satisfied: fonttools>=4.22.0 in c:\\users\\asus\\appdata\\roaming\\jupyterlab-desktop\\jlab_server\\lib\\site-packages (from matplotlib!=3.6.1,>=3.4->seaborn) (4.51.0)\n",
      "Requirement already satisfied: kiwisolver>=1.3.1 in c:\\users\\asus\\appdata\\roaming\\jupyterlab-desktop\\jlab_server\\lib\\site-packages (from matplotlib!=3.6.1,>=3.4->seaborn) (1.4.5)\n",
      "Requirement already satisfied: packaging>=20.0 in c:\\users\\asus\\appdata\\roaming\\jupyterlab-desktop\\jlab_server\\lib\\site-packages (from matplotlib!=3.6.1,>=3.4->seaborn) (24.0)\n",
      "Requirement already satisfied: pillow>=8 in c:\\users\\asus\\appdata\\roaming\\jupyterlab-desktop\\jlab_server\\lib\\site-packages (from matplotlib!=3.6.1,>=3.4->seaborn) (10.3.0)\n",
      "Requirement already satisfied: pyparsing>=2.3.1 in c:\\users\\asus\\appdata\\roaming\\jupyterlab-desktop\\jlab_server\\lib\\site-packages (from matplotlib!=3.6.1,>=3.4->seaborn) (3.1.2)\n",
      "Requirement already satisfied: python-dateutil>=2.7 in c:\\users\\asus\\appdata\\roaming\\jupyterlab-desktop\\jlab_server\\lib\\site-packages (from matplotlib!=3.6.1,>=3.4->seaborn) (2.9.0)\n",
      "Requirement already satisfied: pytz>=2020.1 in c:\\users\\asus\\appdata\\roaming\\jupyterlab-desktop\\jlab_server\\lib\\site-packages (from pandas>=1.2->seaborn) (2024.1)\n",
      "Requirement already satisfied: tzdata>=2022.7 in c:\\users\\asus\\appdata\\roaming\\jupyterlab-desktop\\jlab_server\\lib\\site-packages (from pandas>=1.2->seaborn) (2024.1)\n",
      "Requirement already satisfied: six>=1.5 in c:\\users\\asus\\appdata\\roaming\\jupyterlab-desktop\\jlab_server\\lib\\site-packages (from python-dateutil>=2.7->matplotlib!=3.6.1,>=3.4->seaborn) (1.16.0)\n",
      "Downloading seaborn-0.13.2-py3-none-any.whl (294 kB)\n",
      "   ---------------------------------------- 0.0/294.9 kB ? eta -:--:--\n",
      "   ---------------------------------------- 0.0/294.9 kB ? eta -:--:--\n",
      "   ---- ----------------------------------- 30.7/294.9 kB ? eta -:--:--\n",
      "   ---- ----------------------------------- 30.7/294.9 kB ? eta -:--:--\n",
      "   --------------- ------------------------ 112.6/294.9 kB 1.1 MB/s eta 0:00:01\n",
      "   --------------- ------------------------ 112.6/294.9 kB 1.1 MB/s eta 0:00:01\n",
      "   -------------------------- ------------- 194.6/294.9 kB 1.1 MB/s eta 0:00:01\n",
      "   -------------------------- ------------- 194.6/294.9 kB 1.1 MB/s eta 0:00:01\n",
      "   -------------------------- ------------- 194.6/294.9 kB 1.1 MB/s eta 0:00:01\n",
      "   -------------------------- ------------- 194.6/294.9 kB 1.1 MB/s eta 0:00:01\n",
      "   ------------------------------------ - 286.7/294.9 kB 770.1 kB/s eta 0:00:01\n",
      "   -------------------------------------- 294.9/294.9 kB 759.1 kB/s eta 0:00:00\n",
      "Installing collected packages: seaborn\n",
      "Successfully installed seaborn-0.13.2\n"
     ]
    }
   ],
   "source": [
    "!pip install seaborn"
   ]
  },
  {
   "cell_type": "code",
   "execution_count": 3,
   "id": "066e3361-7803-4e72-865b-dd0c4fc07c50",
   "metadata": {},
   "outputs": [],
   "source": [
    "import matplotlib.pyplot as plt\n",
    "import numpy as np\n",
    "import pandas as pd\n",
    "from numpy.random import normal\n",
    "import seaborn as sns\n",
    "import scipy"
   ]
  },
  {
   "cell_type": "code",
   "execution_count": 4,
   "id": "1658a436-7dfb-4fa5-9ea5-cd9fa058459b",
   "metadata": {},
   "outputs": [
    {
     "data": {
      "text/plain": [
       "355"
      ]
     },
     "execution_count": 4,
     "metadata": {},
     "output_type": "execute_result"
    }
   ],
   "source": [
    "titanic=sns.load_dataset('titanic')\n",
    "titanic_pclass1=titanic[titanic['pclass']==1].dropna(subset=['age'])\n",
    "titanic_pclass2=titanic[titanic['pclass']==2].dropna(subset=['age'])\n",
    "titanic_pclass3=titanic[titanic['pclass']==3].dropna(subset=['age'])\n",
    "len(titanic_pclass3)"
   ]
  },
  {
   "cell_type": "code",
   "execution_count": 5,
   "id": "384b583d-9cec-4a36-b5d3-346fec90f301",
   "metadata": {},
   "outputs": [
    {
     "name": "stdout",
     "output_type": "stream",
     "text": [
      "4.706232121741777e-53\n",
      "Means are different\n"
     ]
    }
   ],
   "source": [
    "import scipy.stats\n",
    "\n",
    "\n",
    "mean1=titanic_pclass1['age'].dropna(how='any').mean()\n",
    "mean2=titanic_pclass2['age'].dropna(how='any').mean()\n",
    "mean3=titanic_pclass3['age'].dropna(how='any').mean()\n",
    "customlist=[0,mean1,mean2,mean3]\n",
    "grand_mean=(mean1+mean2+mean3)/3\n",
    "index1=titanic[titanic['pclass']==1].index\n",
    "\n",
    "### CALCULATING SSW\n",
    "for i in range(1,4):\n",
    "    length=len(titanic[titanic['pclass']==i])\n",
    "    current_mean=customlist[i]\n",
    "    custom_series=[]\n",
    "    for j in range(0,length):\n",
    "        custom_series.append((current_mean-titanic[titanic['pclass']==i].iloc[[j]]['age'].values[0])**2)\n",
    "custom_dataframe=pd.DataFrame(custom_series)\n",
    "ssw=custom_dataframe.dropna(how='any').values.sum()\n",
    "\n",
    "length1=len(titanic_pclass1['age'].dropna(how='any'))\n",
    "length2=len(titanic_pclass2['age'].dropna(how='any'))\n",
    "length3=len(titanic_pclass3['age'].dropna(how='any'))\n",
    "\n",
    "ssb=(length1*((grand_mean-mean1)**2))+(length2*((grand_mean-mean2)**2))+(length3*((grand_mean-mean3)**2))\n",
    "\n",
    "n=len(titanic.dropna(subset=['age']))\n",
    "k=3\n",
    "\n",
    "df1=k-1\n",
    "df2=n-k\n",
    "\n",
    "MSbetween=ssb/df1\n",
    "MSwithin=ssw/df2\n",
    "\n",
    "Fratio=MSbetween/MSwithin\n",
    "\n",
    "p_value=scipy.stats.f.sf(Fratio,df1,df2)\n",
    "if(p_value<0.05):\n",
    "    print(p_value)\n",
    "    print(\"Means are different\")\n",
    "else:\n",
    "    print(p_value)\n",
    "    print(\"means are simmilar\")"
   ]
  },
  {
   "cell_type": "code",
   "execution_count": null,
   "id": "8499d5a7-0a58-493d-b2ce-ddfae1ee72bd",
   "metadata": {},
   "outputs": [],
   "source": []
  }
 ],
 "metadata": {
  "kernelspec": {
   "display_name": "Python 3 (ipykernel)",
   "language": "python",
   "name": "python3"
  },
  "language_info": {
   "codemirror_mode": {
    "name": "ipython",
    "version": 3
   },
   "file_extension": ".py",
   "mimetype": "text/x-python",
   "name": "python",
   "nbconvert_exporter": "python",
   "pygments_lexer": "ipython3",
   "version": "3.12.3"
  }
 },
 "nbformat": 4,
 "nbformat_minor": 5
}
