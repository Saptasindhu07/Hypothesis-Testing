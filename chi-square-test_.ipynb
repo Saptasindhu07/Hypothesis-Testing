{
 "cells": [
  {
   "cell_type": "code",
   "execution_count": 1,
   "id": "0559e3d5-058b-4d73-928d-651b51ca8296",
   "metadata": {},
   "outputs": [],
   "source": [
    "import matplotlib.pyplot as plt\n",
    "import numpy as np\n",
    "import pandas as pd\n",
    "from numpy.random import normal\n",
    "import seaborn as sns\n",
    "from scipy.stats import chi2"
   ]
  },
  {
   "cell_type": "markdown",
   "id": "3256253a-b758-4cfc-8f45-2b316f8679d6",
   "metadata": {},
   "source": [
    "Suppose we have a six-sided fair die, and we want to test if the die is indeed fair. We roll the\n",
    "die 60 times and record the number of times each side comes up. We'll use the Chi-Square\n",
    "Goodness-of-Fit test to determine if the observed frequencies are consistent with a fair die\n",
    "(i.e., a uniform distribution of the sides).\n",
    "Observed frequencies:\n",
    "○ Side 1: 12 times\n",
    "○ Side 2: 8 times\n",
    "○ Side 3: 11 times\n",
    "○ Side 4: 9 times\n",
    "○ Side 5: 10 times\n",
    "○ Side 6: 10 times"
   ]
  },
  {
   "cell_type": "code",
   "execution_count": 2,
   "id": "b8dfc244-24f2-4e85-b843-897be0613c55",
   "metadata": {},
   "outputs": [],
   "source": [
    "observed=[12,8,11,9,10,10]\n",
    "expected=10"
   ]
  },
  {
   "cell_type": "code",
   "execution_count": 3,
   "id": "ae68951e-6d10-45f0-89be-18644fdb7984",
   "metadata": {},
   "outputs": [
    {
     "data": {
      "text/plain": [
       "1.0"
      ]
     },
     "execution_count": 3,
     "metadata": {},
     "output_type": "execute_result"
    }
   ],
   "source": [
    "statistic=0\n",
    "for i in range(0,6):\n",
    "    statistic+=((observed[i]-expected)**2)/expected\n",
    "statistic"
   ]
  },
  {
   "cell_type": "code",
   "execution_count": 4,
   "id": "41f1c936-4e4f-4527-8da2-972c688c1b22",
   "metadata": {},
   "outputs": [
    {
     "name": "stdout",
     "output_type": "stream",
     "text": [
      "Null Hypothesis stands\n"
     ]
    }
   ],
   "source": [
    "cdf=chi2.cdf(statistic,5)\n",
    "pValue=1-cdf\n",
    "if(pValue<0.05):\n",
    "    print(\"Null Hypothesis Overthrown\")\n",
    "else:\n",
    "    print(\"Null Hypothesis stands\")"
   ]
  },
  {
   "cell_type": "code",
   "execution_count": null,
   "id": "5fb25e27-e05f-4d38-beab-61db947a0b86",
   "metadata": {},
   "outputs": [],
   "source": []
  }
 ],
 "metadata": {
  "kernelspec": {
   "display_name": "Python 3 (ipykernel)",
   "language": "python",
   "name": "python3"
  },
  "language_info": {
   "codemirror_mode": {
    "name": "ipython",
    "version": 3
   },
   "file_extension": ".py",
   "mimetype": "text/x-python",
   "name": "python",
   "nbconvert_exporter": "python",
   "pygments_lexer": "ipython3",
   "version": "3.12.3"
  }
 },
 "nbformat": 4,
 "nbformat_minor": 5
}
